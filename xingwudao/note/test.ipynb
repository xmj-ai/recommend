{
  "cells": [
    {
      "cell_type": "markdown",
      "metadata": {
        "collapsed": true,
        "pycharm": {
          "name": "#%% md\n"
        }
      },
      "source": "\n$$\\frac{T(T+1)(2T+1)}{6} \u003d 6000000000$$\n\n$$\\sum_{i\u003d1}^{T}{i^2} \u003d \\frac{T(T+1)(2T+1)}{6}$$\n\n$$Div \u003d \\frac{\\sum_{i\u003d1}^{n}{-p_i*log(p_i)}}{n*log(n)}$$\n\n$$Gini \u003d \\frac{1}{n}\\sum_{i\u003d1}^{n}{p_i*(2i-n-1)}$$\n\n$$ \\frac{\\Delta{connection}}{\\Delta{user}\\times \\Delta{item}} $$\n\n$$LOST_{pv} \u003d \\frac{N_{l \u003d 0}^{* }}{N_{pv}^{* }}$$\n\n$$LOST_{pv} \u003d \\frac{N_{l \u003d 0}^{* }}{N_{pv}^{* }}$$\n\n$$LOST_{uv} \u003d \\frac{N_{l \u003d 0}}{N_{uv}}$$\n\n$$COV_{pv} \u003d \\frac{N_{l \\gt c}^{* }}{N_{pv}^{* }}$$\n\n$$COV_{uv} \u003d \\frac{N_{l \\gt c}}{N_{uv}}$$\n\n$$N \u003e\u003d 10.5(\\frac{s}{\\theta})^2$$\n\n$$\\epsilon \u003d \\sqrt{\\frac{ln(\\frac{1}{\\delta})}{2n}}$$\n\n$$sim(i, j) \u003d \\frac{count_{users(item_{i}, item_{j})} + \\Delta count_{users}}{\\sqrt{count_{users(item_{i})} + \\Delta count_{users(i)}}\\sqrt{count_{users(item_j))} + \\Delta count_{users(j)}}}$$\n\n$$sim(i, j) \u003d \\frac{count_{users(item_{i}, item_{j})}}{\\sqrt{count_{users(item_{i})}}\\sqrt{count_{users(item_{j})}}}$$\n\n $S_{i} \u003d R^{\\frac{1}{w_{i}}}$\n\n$$S_{i} \u003d R^{\\frac{1}{w_{i}}}$$\n\n$$\\frac{v}{v+m} R + \\frac{m}{v + m} C$$\n\n$$ \\frac{\\hat{p} + \\frac{1}{2n}z^2_{1-\\frac{\\alpha}{2}} \\pm z_{1-\\frac{\\alpha}{2}}\\sqrt{\\frac{\\hat{p}(1-\\hat{p})}{n} + \\frac{z^2_{1-\\frac{\\alpha}{2}}}{4n^2}} }{1 + \\frac{1}{n}z^2\\_{1-\\frac{\\alpha}{2}}} $$\n\n$$ \\frac{(log_{10}Qviews)\\times{4} + \\frac{Qanswers \\times{Qscore}}{5} + \\sum_{i}{Ascore_{i}}} {(\\frac{Qage}{2}+\\frac{Qupdated}{2}+1)^{1.5}} $$\n\n$$ C e^{-\\alpha t} \u003d (C+A)e^{-\\alpha (t + B)} $$\n\n$$\\alpha \u003d \\frac{1}{B}ln(1 + \\frac{A}{C})$$\n\n$$sim(i,j) \u003d \\frac{\\sum_{k\u003d1}^{n}{R_{ik} * R_{jk}}} { \\sqrt{\\sum_{k\u003d1}^{n}{R_{ik}^{2}}} \\sqrt{\\sum_{k\u003d1}^{n}{R_{jk}^{2}}}}$$\n\n\n$$\\hat{R_{ui}} \u003d \\frac{\\sum_{j\u003d1}^{m}{sim(i,j)* R_{uj}}}{\\sum_{j\u003d1}^{m}{sim(i,j)}}$$\n\n$$ \\frac{8*1 + 2.5 * 2 }{(1+2)} \u003d 4.33 $$\n\n欧氏距离\n\n$$E(p,q) \u003d \\sqrt{\\sum_{i\u003d1}^{n}{(p_{i} - q_{i})^{2}}}$$\n\n$$ \\frac{1}{1+E(p,q)} $$\n\n余弦相似度\n\n$$cos(p,q) \u003d \\frac{\\sum_{i}{p_{i}q_{i}}}{\\sqrt{\\sum_{i}{q_{i}^{2}}}\\sqrt{\\sum_{i}{p_{i}^{2}}}} $$\n\n$$R(p,q) \u003d \\frac{\\sum_{i\u003d1}^{n}{(p_{i} - \\bar{p})(q_{i} - \\bar{q})}}{\\sqrt{\\sum_{i\u003d1}^{n}{(p_{i} - \\bar{p})^{2}}}\\sqrt{\\sum_{i\u003d1}^{n}{(q_{i} - \\bar{q})^{2}}}}$$\n\n$$ U_{m\\times{k}}V_{n\\times{k}}^{T} \\approx A_{m\\times{n}}$$\n\n$$ \\hat{r}_{ui} \u003d p_{u}q_{i}^{T}$$\n\n$$\\hat{r}_{ui} \u003d \\mu + b_{i} + b_{u} + p_{u}q_{i}^{T} $$\n\nSVD++\n\n$$ \\hat{r}_{ui} \u003d \\mu + b_{i} + b_{u} + (p_{u} + |N(u)|^{-0.5}\\sum_{i\\in{N(u)}}{x_{i}} + \\sum_{a\\in{A{u}}}{y_{a}})q_{i}^{T} $$\n\n$$ \\min_{q^{* },p^{* } } \\sum_{(u,i) \\in \\kappa }{(r_{ui} - p_{u}q_{i}^{T})^{2} + \\lambda (||q_{i}||^{2} + ||p_{u}||^{2})} $$\n\n$$ R_{m \\times n} \u003d P_{m \\times k} \\times Q^{T}_{n \\times k} $$ \n\n$$ P_{m \\times k} \u003d R_{m \\times n} \\times Q^{-1}_{n \\times k}$$\n\n加权隐式反馈\n\n$$ \\min_{q^{* },p^{* } } \\sum_{(u,i) \\in \\kappa }{c_{ui}(r_{ui} - p_{u}q_{i}^{T})^{2} + \\lambda (||q_{i}||^{2} + ||p_{u}||^{2})} $$\n\n$$ c_{ui} \u003d 1 + \\alpha C $$\n\nAUC\n\n$$AUC \u003d \\frac{\\sum_{i\\in(样本)}{r_{i}} - \\frac{M\\times{(M+1)}}{2}}{M\\times{N}}$$\n\n$$\\Theta \u003d \\frac{1}{1 + e^{-(X_{u12})}}$$\n\n$$\\prod_{u,i,j}{p(i\u003e_ {u}j | \\theta)p(\\theta)}$$\n模型融合\n\n$$\\sigma(w\\times{x}) \u003d \\frac{1}{1+e^{-w\\times{x}}}$$\n\n$$-y\\log p - (1-y)log(1-p)$$\n\n$\\sum_{i\u003d1}^{N}{M_i}$\n\n$$\\hat{y} \u003d \\omega_{0} + \\sum_{i\u003d1}^{n}{\\omega_{i}x_{i}} + \\sum_{i\u003d1}^{n}{\\sum_{j\u003di+1}^{n}{\\omega_{ij}x_{i}x_{j}}}$$\n\n$$\\hat{y} \u003d \\omega_{0} + \\sum_{i\u003d1}^{n}{\\omega_{i}x_{i}} + \\sum_{i\u003d1}^{n}{\\sum_{j\u003di+1}^{n}{\u003cV_{i}, V_{j}\u003ex_{i}x_{j}}}$$\n\n$$\\sigma(\\hat{y}) \u003d \\frac{1}{1+e^{-\\hat{y}}}$$\n\n$$ loss(\\theta)\u003d -\\frac{1}{m}\\sum_{i\u003d1}^{m}{[y^{(i)}log(\\sigma(\\hat{y}))+(1-y^{(i)})log(1-\\sigma(\\hat{y}))]} $$\n\nf复杂度\n\n$O(kn^2)$\n\n$$\n\\begin{aligned}\n\\sum_{i\u003d1}^{n}\\sum_{j\u003di+1}^{n}{\u003cV_{i}, V_{j}\u003ex_{i}x_{j}}\u003d{}\u0026 \\frac{1}{2}\\sum_{i\u003d1}^{n}\\sum_{j\u003d1}^{n}{\u003cV_{i}, V_{j}\u003ex_{i}x_{j}} -\n\\frac{1}{2}\\sum_{i\u003d1}^{n}{\u003cV_{i}, V_{j}\u003ex_{i}x_{i}} \\\n\u0026\u003d\\frac{1}{2}(\\sum_{i\u003d1}^{n}\\sum_{j\u003d1}^{n}\\sum_{f\u003d1}^{k}{v_{i,f}v_{j,f}x_ix_j}-\\sum_{i\u003d1}^{n}\\sum_{f\u003d1}^{k}\n{v_{i,f}v_{i,f}x_ix_i}) \\\n\u0026\u003d\\frac{1}{2}\\sum_{f\u003d1}^{k}((\\sum_{i\u003d1}^{n}{v_{i,f}x_i})(\\sum_{j\u003d1}^{n}v_{j,f}x_j)-\\sum_{i\u003d1}^{n}{v_{i,f}^2x_i^2}) \\\n\u0026\u003d\\frac{1}{2}\\sum_{f\u003d1}^{k}{((\\sum_{i\u003d1}^{n}{v_{i,f}x_i})^2-\\sum_{i\u003d1}^{n}{v_{i,f}^2x_i^2})}\n\\end{aligned}\n$$\n\n$$\\hat{y} \u003d \\omega_{0} + \\omega_{u} + \\omega_{i} + \u003cV_{u}, V_{i}\u003e$$\n\nFFM\n\n$$\\hat{y} \u003d \\omega_{0} + \\sum_{i\u003d1}^{n}{\\omega_{i}x_{i}} + \\sum_{i\u003d1}^{n}{\\sum_{j\u003di+1}^{n}{\u003cV_{i}, V_{j}\u003ex_{i}x_{j}}}$$\n\n$$ \\sum_{i\u003d1}^{n}{\\sum_{j\u003di+1}^{n}{\u003cV_{i,fj}, V_{j,fi}\u003ex_{i}x_{j}}} $$\n\n$x_{i}\\times\\theta_{j}$\nlinUCB\n\n$$D_{m \\times d} \\times \\hat{\\theta_{d \\times 1}} \u003d C_{m \\times 1}$$\n\n$$ \\hat{\\theta}_{d \\times 1} \u003d (D_{m \\times d}^{T})^{-1} C_{m \\times 1}$$\n\n$$ \\hat{\\theta}_{d \\times 1} \u003d (D_{m \\times d}^{T}D_{m \\times d} + I_{d \\times d})^{-1}D_{m \\times d}^{T}C_{m \\times 1}$$\n\n$$\\hat{r} \u003d x^{T}_{d \\times 1}\\hat{\\theta}_ {d \\times1 }$$\n\n$$\\hat{b} \u003d \\alpha \\sqrt{x^{T}_{d \\times 1}(D_{m \\times d}^{T}D_{m \\times d} + I_{d \\times d})^{-1}x_{d \\times 1}}$$\n\n$$\\phi_{u}^{T}W\\phi_{a}^{T}$$\n\n$$\\psi_{u}\u003d\\phi_{u}^{T}W$$\n\nU2B\n\n$$P(w_{t}\u003di | U,C) \u003d \\frac{e^{v_{i}u}}{\\sum_{j\\in{V}}{e^{v_{j}u}}}$$\n\n$$h_{t} \u003d F(Wx_{t} + Uh_{t-1})$$\n\n$$p(o_{ti} | h_{t}) \u003d \\frac{e^{v_{i}h}}{\\sum_{j \\in M}{e^{v_{j}h}}} $$\n\n隐藏层公式\n\n$$h_{t} \u003d F(Wx_{t} + Uh_{t-1})$$\n\n$W_{m\\times{k}}$\n\n$U_{k \\times {k}}$\n\n $V_{k\\times{m}}$\n \n $$f^{\u0027}(x) \u003d 2g(x)e^{x} \u003d 2e^{x}e^{x} \u003d 2e^{2x}$$\n \n $$\\frac{P-1}{(T+2)^G}$$\n \n $$ T(t) \u003d H + C e^{-\\alpha t} $$\n #slope One\n \n \n $$ \\frac{8*1 + 2.5 * 2 }{(1+2)} \u003d 4.33 $$\n"
    },
    {
      "cell_type": "markdown",
      "source": "## 欧式距离\n$E(p,q)\u003d\\displaystyle\\sum_{i\u003d0}^n(q-p)^2$\n\n$O\u003d\\frac{1}{E(p,q)+1}$\n\n## 余弦相似度\n$cos(q,p)\u003d\\frac{\\sum_i q_ip_i}{\\sqrt{\\sum_i{p_i^2}}\\sqrt{\\sum_i{q_i^2}}}$\n",
      "metadata": {
        "pycharm": {
          "metadata": false,
          "name": "#%% md\n"
        }
      }
    },
    {
      "cell_type": "markdown",
      "source": "## 模型融合\n$$\\hat{y} \u003d \\omega_{0} + \\sum_{i\u003d1}^{n}{\\omega_{i}x_{i}} + \\sum_{i\u003d1}^{n}{\\sum_{j\u003di+1}^{n}{\u003cV_{i}, V_{j}\u003ex_{i}x_{j}}}$$\n\n$$\n\\begin{aligned}\n\\sum_{i\u003d1}^{n}\\sum_{j\u003di+1}^{n}{\u003cV_{i}, V_{j}\u003ex_{i}x_{j}}\u003d{}\u0026 \\frac{1}{2}\\sum_{i\u003d1}^{n}\\sum_{j\u003d1}^{n}{\u003cV_{i}, V_{j}\u003ex_{i}x_{j}} -\n\\frac{1}{2}\\sum_{i\u003d1}^{n}{\u003cV_{i}, V_{j}\u003ex_{i}x_{i}} \\\n\u0026\u003d\\frac{1}{2}(\\sum_{i\u003d1}^{n}\\sum_{j\u003d1}^{n}\\sum_{f\u003d1}^{k}{v_{i,f}v_{j,f}x_ix_j}-\\sum_{i\u003d1}^{n}\\sum_{f\u003d1}^{k}\n{v_{i,f}v_{i,f}x_ix_i}) \\\n\u0026\u003d\\frac{1}{2}\\sum_{f\u003d1}^{k}((\\sum_{i\u003d1}^{n}{v_{i,f}x_i})(\\sum_{j\u003d1}^{n}v_{j,f}x_j)-\\sum_{i\u003d1}^{n}{v_{i,f}^2x_i^2}) \\\n\u0026\u003d\\frac{1}{2}\\sum_{f\u003d1}^{k}{((\\sum_{i\u003d1}^{n}{v_{i,f}x_i})^2-\\sum_{i\u003d1}^{n}{v_{i,f}^2x_i^2})}\n\\end{aligned}\n$$\n\n",
      "metadata": {
        "pycharm": {
          "metadata": false,
          "name": "#%% md\n"
        }
      }
    },
    {
      "cell_type": "markdown",
      "source": "##排行榜算法\n\n$$\\frac{(log_{10}Qviews)\\times{4} + \\frac{Qanswers \\times{Qscore}}{5} + \\sum_{i}{Ascore_{i}}} {(\\frac{Qage}{2}+\\frac{Qupdated}{2}+1)^{1.5}}$$\n",
      "metadata": {
        "pycharm": {
          "metadata": false
        }
      }
    },
    {
      "cell_type": "markdown",
      "source": "## youtube\n$$P(w_{t}\u003di | U,C) \u003d \\frac{e^{v_{i}u}}{\\sum_{j\\in{V}}{e^{v_{j}u}}}$$",
      "metadata": {
        "pycharm": {
          "metadata": false
        }
      }
    },
    {
      "cell_type": "markdown",
      "source": "## FM 音乐推荐\n$$p(o_{ti} | h_{t}) \u003d \\frac{e^{v_{i}h}}{\\sum_{j \\in M}{e^{v_{j}h}}} $$\n\n- 隐藏层\n$$h_{t} \u003d F(Wx_{t} + Uh_{t-1})$$\n\n$$f^{\u0027}(x) \u003d 2g(x)e^{x} \u003d 2e^{x}e^{x} \u003d 2e^{2x}$$\n",
      "metadata": {
        "pycharm": {
          "metadata": false
        }
      }
    }
  ],
  "metadata": {
    "language_info": {
      "codemirror_mode": {
        "name": "ipython",
        "version": 2
      },
      "file_extension": ".py",
      "mimetype": "text/x-python",
      "name": "python",
      "nbconvert_exporter": "python",
      "pygments_lexer": "ipython2",
      "version": "2.7.6"
    },
    "kernelspec": {
      "name": "python3",
      "language": "python",
      "display_name": "Python 3"
    }
  },
  "nbformat": 4,
  "nbformat_minor": 0
}