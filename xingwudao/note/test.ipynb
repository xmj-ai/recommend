{
  "cells": [
    {
      "cell_type": "markdown",
      "metadata": {
        "collapsed": true,
        "pycharm": {
          "name": "#%% md\n"
        }
      },
      "source": "\n$$sim(i,j) \u003d \\frac{\\sum_{k\u003d1}^{n}{R_{ik} * R_{jk}}} { \\sqrt{\\sum_{k\u003d1}^{n}{R_{ik}^{2}}} \\sqrt{\\sum_{k\u003d1}^{n}{R_{jk}^{2}}}}$$\n\n\n$$\\hat{R_{ui}} \u003d \\frac{\\sum_{j\u003d1}^{m}{sim(i,j)* R_{uj}}}{\\sum_{j\u003d1}^{m}{sim(i,j)}}$$\n\n$$ \\frac{8*1 + 2.5 * 2 }{(1+2)} \u003d 4.33 $$\n\n欧氏距离\n\n$$E(p,q) \u003d \\sqrt{\\sum_{i\u003d1}^{n}{(p_{i} - q_{i})^{2}}}$$\n\n$$ \\frac{1}{1+E(p,q)} $$\n\n余弦相似度\n\n$$cos(p,q) \u003d \\frac{\\sum_{i}{p_{i}q_{i}}}{\\sqrt{\\sum_{i}{q_{i}^{2}}}\\sqrt{\\sum_{i}{p_{i}^{2}}}} $$\n\n$$R(p,q) \u003d \\frac{\\sum_{i\u003d1}^{n}{(p_{i} - \\bar{p})(q_{i} - \\bar{q})}}{\\sqrt{\\sum_{i\u003d1}^{n}{(p_{i} - \\bar{p})^{2}}}\\sqrt{\\sum_{i\u003d1}^{n}{(q_{i} - \\bar{q})^{2}}}}$$\n\n$$ U_{m\\times{k}}V_{n\\times{k}}^{T} \\approx A_{m\\times{n}}$$\n\n$$ \\hat{r}_{ui} \u003d p_{u}q_{i}^{T}$$\n\n$$\\hat{r}_{ui} \u003d \\mu + b_{i} + b_{u} + p_{u}q_{i}^{T} $$\n\nSVD++\n\n$$ \\hat{r}_{ui} \u003d \\mu + b_{i} + b_{u} + (p_{u} + |N(u)|^{-0.5}\\sum_{i\\in{N(u)}}{x_{i}} + \\sum_{a\\in{A{u}}}{y_{a}})q_{i}^{T} $$\n\n$$ \\min_{q^{* },p^{* } } \\sum_{(u,i) \\in \\kappa }{(r_{ui} - p_{u}q_{i}^{T})^{2} + \\lambda (||q_{i}||^{2} + ||p_{u}||^{2})} $$\n\n$$ R_{m \\times n} \u003d P_{m \\times k} \\times Q^{T}_{n \\times k} $$ \n\n$$ P_{m \\times k} \u003d R_{m \\times n} \\times Q^{-1}_{n \\times k}$$\n\n加权隐式反馈\n\n$$ \\min_{q^{* },p^{* } } \\sum_{(u,i) \\in \\kappa }{c_{ui}(r_{ui} - p_{u}q_{i}^{T})^{2} + \\lambda (||q_{i}||^{2} + ||p_{u}||^{2})} $$\n\n$$ c_{ui} \u003d 1 + \\alpha C $$\n\nAUC\n\n$$AUC \u003d \\frac{\\sum_{i\\in(样本)}{r_{i}} - \\frac{M\\times{(M+1)}}{2}}{M\\times{N}}$$\n\n$$\\Theta \u003d \\frac{1}{1 + e^{-(X_{u12})}}$$\n\n$$\\prod_{u,i,j}{p(i\u003e_ {u}j | \\theta)p(\\theta)}$$"
    }
  ],
  "metadata": {
    "language_info": {
      "codemirror_mode": {
        "name": "ipython",
        "version": 2
      },
      "file_extension": ".py",
      "mimetype": "text/x-python",
      "name": "python",
      "nbconvert_exporter": "python",
      "pygments_lexer": "ipython2",
      "version": "2.7.6"
    },
    "kernelspec": {
      "name": "python3",
      "language": "python",
      "display_name": "Python 3"
    }
  },
  "nbformat": 4,
  "nbformat_minor": 0
}